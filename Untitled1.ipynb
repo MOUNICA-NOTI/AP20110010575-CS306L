{
  "nbformat": 4,
  "nbformat_minor": 0,
  "metadata": {
    "colab": {
      "name": "Untitled1.ipynb",
      "provenance": [],
      "collapsed_sections": []
    },
    "kernelspec": {
      "name": "python3",
      "display_name": "Python 3"
    },
    "language_info": {
      "name": "python"
    }
  },
  "cells": [
    {
      "cell_type": "code",
      "execution_count": null,
      "metadata": {
        "colab": {
          "base_uri": "https://localhost:8080/"
        },
        "id": "nhkT9B-K4NWm",
        "outputId": "8ef16641-7d5d-4c30-c2d8-83111f0a321e"
      },
      "outputs": [
        {
          "output_type": "stream",
          "name": "stdout",
          "text": [
            "Available datatypes are\n",
            "1.int 2. float 3. char 4. arrays 5. structure\n",
            "if you want to end enter 0:1\n",
            "enter the datatype:int\n",
            "enter the name of identefier:micky mouse\n",
            "if you want to end enter 0:1\n",
            "enter the datatype:char\n",
            "enter the name of identefier:jerry\n",
            "if you want to end enter 0:0\n",
            "{'int': 'micky mouse', 'char': 'jerry'}\n"
          ]
        }
      ],
      "source": [
        "dict={}\n",
        "print(\"Available datatypes are\")\n",
        "print(\"1.int 2. float 3. char 4. arrays 5. structure\")\n",
        "while(1):\n",
        "    t=int(input(\"if you want to end enter 0:\"))\n",
        "    if(t==0):\n",
        "        break\n",
        "    datatype=input(\"enter the datatype:\")\n",
        "    if(datatype==\"int\"):\n",
        "       value=input(\"enter the name of identefier:\")\n",
        "       dict[datatype]=value\n",
        "    elif(datatype==\"char\"):\n",
        "       value=input(\"enter the name of identefier:\")\n",
        "       dict[datatype]=value  \n",
        "    elif(datatype==\"float\"):\n",
        "       value=input(\"enter the name of identefier:\")\n",
        "       dict[datatype]=value  \n",
        "    elif(datatype==\"arrays\"):\n",
        "       l=[]\n",
        "       value1=input(\"enter the size of the array:\")\n",
        "       value2=input(\"enter the type of the array:\")\n",
        "       l.append(value1)\n",
        "       l.append(value2)\n",
        "       dict[datatype]=l  \n",
        "    elif(datatype==\"structure\"):\n",
        "       l=[]\n",
        "       value1=int(input(\"enter the total number of datatypes:\"))\n",
        "       for i in range(value1):\n",
        "           d={}\n",
        "           t=input(\"enter the datatype:\")\n",
        "           m=input(\"enter the name of identifier:\")\n",
        "           d[t]=m\n",
        "           l.append(d)\n",
        "       dict[datatype]=l  \n",
        "print(dict)    \n"
      ]
    }
  ]
}