{
  "nbformat": 4,
  "nbformat_minor": 0,
  "metadata": {
    "colab": {
      "name": "Untitled0.ipynb",
      "provenance": [],
      "collapsed_sections": []
    },
    "kernelspec": {
      "name": "python3",
      "display_name": "Python 3"
    },
    "language_info": {
      "name": "python"
    }
  },
  "cells": [
    {
      "cell_type": "code",
      "execution_count": 2,
      "metadata": {
        "colab": {
          "base_uri": "https://localhost:8080/"
        },
        "id": "801OsrPmlX4M",
        "outputId": "33945131-8c45-4585-8337-15eec93b03c7"
      },
      "outputs": [
        {
          "output_type": "stream",
          "name": "stdout",
          "text": [
            "enter the string:abab\n",
            "['a', 'b', 'a', 'b']\n",
            "the string is not accepted\n"
          ]
        }
      ],
      "source": [
        "str=input(\"enter the string:\")\n",
        "if(len(str)==1):\n",
        "    print(\"the string is not accepted\")\n",
        "elif(len(str)==0):\n",
        "        print(\"the string is accepted\")\n",
        "else:\n",
        "   str=list(str)\n",
        "   print(str)\n",
        "   #for i in range(len(str)-1,len(str)-3,-1):\n",
        "   if(str[len(str)-1]==str[len(str)-2]):\n",
        "       print(\"the string is accepted\")\n",
        "   else:\n",
        "       print(\"the string is not accepted\")"
      ]
    }
  ]
}